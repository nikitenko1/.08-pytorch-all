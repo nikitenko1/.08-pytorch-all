{
 "cells": [
  {
   "cell_type": "markdown",
   "id": "43f15526",
   "metadata": {},
   "source": [
    "### A Comprehensive Guide to PyTorch Datasets: CIFAR"
   ]
  },
  {
   "cell_type": "markdown",
   "id": "fb41cf4e",
   "metadata": {},
   "source": [
    "### @ 1. Fundamental Concepts of CIFAR Datasets"
   ]
  },
  {
   "cell_type": "code",
   "execution_count": null,
   "id": "7775804e",
   "metadata": {},
   "outputs": [],
   "source": [
    "'''\n",
    "The CIFAR - 10 dataset consists of 60,000 32x32 color images in 10 different classes, with 6,000 images per class\n",
    "The 10 classes are: airplanes, automobiles, birds, cats, deer, dogs, frogs, horses, ships, and trucks. \n",
    "The dataset is divided into 50,000 training images and 10,000 test images\n",
    "'''"
   ]
  },
  {
   "cell_type": "code",
   "execution_count": null,
   "id": "ef0f82a4",
   "metadata": {},
   "outputs": [],
   "source": [
    "'''\n",
    "The CIFAR - 100 dataset is similar to CIFAR - 10 but has 100 different classes. \n",
    "Each class contains 600 images, with 500 for training and 100 for testing\n",
    "The 100 classes are grouped into 20 super - classes\n",
    "'''"
   ]
  },
  {
   "cell_type": "code",
   "execution_count": 9,
   "id": "70be3e99",
   "metadata": {},
   "outputs": [],
   "source": [
    "# -*- coding: utf-8 -*-\n",
    "import torch\n",
    "import torch.nn as nn\n",
    "import torch.nn.functional as F\n",
    "import torch.optim as optim\n",
    "import torchvision\n",
    "import torchvision.transforms as transforms"
   ]
  },
  {
   "cell_type": "code",
   "execution_count": 10,
   "id": "6e6791b9",
   "metadata": {},
   "outputs": [
    {
     "name": "stdout",
     "output_type": "stream",
     "text": [
      "GPU state: cpu\n"
     ]
    }
   ],
   "source": [
    "# GPU\n",
    "device = 'cuda:0' if torch.cuda.is_available() else 'cpu'\n",
    "print('GPU state:', device)"
   ]
  },
  {
   "cell_type": "markdown",
   "id": "fe9e3a2f",
   "metadata": {},
   "source": [
    "### --> Use torchvision transforms module to convert our image data"
   ]
  },
  {
   "cell_type": "code",
   "execution_count": 11,
   "id": "b28cb565",
   "metadata": {},
   "outputs": [],
   "source": [
    "# Cifar-10 data\n",
    "transform = transforms.Compose([transforms.ToTensor(), transforms.Normalize((0.5, 0.5, 0.5), (0.5, 0.5, 0.5))])"
   ]
  },
  {
   "cell_type": "markdown",
   "id": "2fbde0ae",
   "metadata": {},
   "source": [
    "### --> Since PyTorch's datasets has CIFAR-10 data, it can be downloaded here"
   ]
  },
  {
   "cell_type": "code",
   "execution_count": 12,
   "id": "63d540aa",
   "metadata": {},
   "outputs": [],
   "source": [
    "# Data\n",
    "trainset = torchvision.datasets.CIFAR10(root='./data', train=True, download=True, transform=transform)\n",
    "testset = torchvision.datasets.CIFAR10(root='./data', train=False, download=True, transform=transform)\n",
    "trainLoader = torch.utils.data.DataLoader(trainset, batch_size=8, shuffle=True, num_workers=2)\n",
    "testLoader = torch.utils.data.DataLoader(testset, batch_size=8, shuffle=False, num_workers=2)"
   ]
  },
  {
   "cell_type": "markdown",
   "id": "f0b47cae",
   "metadata": {},
   "source": [
    "### --> 10 categories in CIFAR-10."
   ]
  },
  {
   "cell_type": "code",
   "execution_count": 13,
   "id": "1725a708",
   "metadata": {},
   "outputs": [],
   "source": [
    "# Data classes\n",
    "classes = ('plane', 'car', 'bird', 'cat', 'deer', 'dog', 'frog', 'horse', 'ship', 'truck')"
   ]
  },
  {
   "cell_type": "markdown",
   "id": "7814078c",
   "metadata": {},
   "source": [
    "### --> Visualizing the Data"
   ]
  },
  {
   "cell_type": "code",
   "execution_count": 17,
   "id": "76523849",
   "metadata": {},
   "outputs": [
    {
     "data": {
      "image/png": "[encoded data removed]",
      "text/plain": [
       "<Figure size 640x480 with 1 Axes>"
      ]
     },
     "metadata": {},
     "output_type": "display_data"
    }
   ],
   "source": [
    "import matplotlib.pyplot as plt\n",
    "trainloader = torch.utils.data.DataLoader(trainset,\n",
    "                                          batch_size=4, \n",
    "                                          shuffle=True)\n",
    "images, labels = next(iter(trainloader))\n",
    "plt.imshow(torchvision.utils.make_grid(images).permute(1, 2, 0) / 2 + 0.5); \n",
    "plt.title(' '.join(trainset.classes[label] for label in labels)); plt.show()"
   ]
  },
  {
   "cell_type": "markdown",
   "id": "114b0f38",
   "metadata": {},
   "source": [
    "### --> The structure of the model"
   ]
  },
  {
   "cell_type": "code",
   "execution_count": 14,
   "id": "9acf0037",
   "metadata": {},
   "outputs": [
    {
     "name": "stdout",
     "output_type": "stream",
     "text": [
      "Net(\n",
      "  (conv1): Conv2d(3, 6, kernel_size=(5, 5), stride=(1, 1))\n",
      "  (conv2): Conv2d(6, 16, kernel_size=(5, 5), stride=(1, 1))\n",
      "  (pool): MaxPool2d(kernel_size=2, stride=2, padding=0, dilation=1, ceil_mode=False)\n",
      "  (fc1): Linear(in_features=400, out_features=120, bias=True)\n",
      "  (fc2): Linear(in_features=120, out_features=84, bias=True)\n",
      "  (fc3): Linear(in_features=84, out_features=10, bias=True)\n",
      ")\n"
     ]
    }
   ],
   "source": [
    "# Model structure\n",
    "class Net(nn.Module):\n",
    "    def __init__(self):\n",
    "        super(Net, self).__init__()\n",
    "        self.conv1 = nn.Conv2d(3, 6, 5)\n",
    "        self.conv2 = nn.Conv2d(6, 16, 5)\n",
    "        self.pool = nn.MaxPool2d(2, 2)\n",
    "        self.fc1 = nn.Linear(16*5*5, 120)\n",
    "        self.fc2 = nn.Linear(120, 84)\n",
    "        self.fc3 = nn.Linear(84, 10)\n",
    "\n",
    "    def forward(self, x):\n",
    "        x = self.pool(F.relu(self.conv1(x)))\n",
    "        x = self.pool(F.relu(self.conv2(x)))\n",
    "        x = x.view(-1, 16*5*5)\n",
    "        x = F.relu(self.fc1(x))\n",
    "        x = F.relu(self.fc2(x))\n",
    "        x = self.fc3(x)\n",
    "        return x\n",
    "\n",
    "net = Net().to(device)\n",
    "print(net)"
   ]
  },
  {
   "cell_type": "markdown",
   "id": "25baf7b2",
   "metadata": {},
   "source": [
    "### --> These are parameter settings"
   ]
  },
  {
   "cell_type": "code",
   "execution_count": 16,
   "id": "a6c22c36",
   "metadata": {},
   "outputs": [
    {
     "name": "stdout",
     "output_type": "stream",
     "text": [
      "[1/3, 100/6250] loss: 0.115\n",
      "[1/3, 200/6250] loss: 0.230\n",
      "[1/3, 300/6250] loss: 0.345\n",
      "[1/3, 400/6250] loss: 0.460\n",
      "[1/3, 500/6250] loss: 0.575\n",
      "[1/3, 600/6250] loss: 0.690\n",
      "[1/3, 700/6250] loss: 0.804\n",
      "[1/3, 800/6250] loss: 0.918\n",
      "[1/3, 900/6250] loss: 1.030\n",
      "[1/3, 1000/6250] loss: 1.140\n",
      "[1/3, 1100/6250] loss: 1.248\n",
      "[1/3, 1200/6250] loss: 1.351\n",
      "[1/3, 1300/6250] loss: 1.452\n",
      "[1/3, 1400/6250] loss: 1.552\n",
      "[1/3, 1500/6250] loss: 1.649\n",
      "[1/3, 1600/6250] loss: 1.744\n",
      "[1/3, 1700/6250] loss: 1.842\n",
      "[1/3, 1800/6250] loss: 1.936\n",
      "[1/3, 1900/6250] loss: 2.029\n",
      "[1/3, 2000/6250] loss: 2.121\n",
      "[1/3, 2100/6250] loss: 2.214\n",
      "[1/3, 2200/6250] loss: 2.302\n",
      "[1/3, 2300/6250] loss: 2.394\n",
      "[1/3, 2400/6250] loss: 2.483\n",
      "[1/3, 2500/6250] loss: 2.571\n",
      "[1/3, 2600/6250] loss: 2.658\n",
      "[1/3, 2700/6250] loss: 2.745\n",
      "[1/3, 2800/6250] loss: 2.834\n",
      "[1/3, 2900/6250] loss: 2.922\n",
      "[1/3, 3000/6250] loss: 3.010\n",
      "[1/3, 3100/6250] loss: 3.097\n",
      "[1/3, 3200/6250] loss: 3.183\n",
      "[1/3, 3300/6250] loss: 3.269\n",
      "[1/3, 3400/6250] loss: 3.351\n",
      "[1/3, 3500/6250] loss: 3.434\n",
      "[1/3, 3600/6250] loss: 3.518\n",
      "[1/3, 3700/6250] loss: 3.601\n",
      "[1/3, 3800/6250] loss: 3.682\n",
      "[1/3, 3900/6250] loss: 3.762\n",
      "[1/3, 4000/6250] loss: 3.844\n",
      "[1/3, 4100/6250] loss: 3.925\n",
      "[1/3, 4200/6250] loss: 4.005\n",
      "[1/3, 4300/6250] loss: 4.086\n",
      "[1/3, 4400/6250] loss: 4.168\n",
      "[1/3, 4500/6250] loss: 4.250\n",
      "[1/3, 4600/6250] loss: 4.330\n",
      "[1/3, 4700/6250] loss: 4.410\n",
      "[1/3, 4800/6250] loss: 4.491\n",
      "[1/3, 4900/6250] loss: 4.568\n",
      "[1/3, 5000/6250] loss: 4.649\n",
      "[1/3, 5100/6250] loss: 4.729\n",
      "[1/3, 5200/6250] loss: 4.807\n",
      "[1/3, 5300/6250] loss: 4.884\n",
      "[1/3, 5400/6250] loss: 4.965\n",
      "[1/3, 5500/6250] loss: 5.044\n",
      "[1/3, 5600/6250] loss: 5.122\n",
      "[1/3, 5700/6250] loss: 5.197\n",
      "[1/3, 5800/6250] loss: 5.274\n",
      "[1/3, 5900/6250] loss: 5.352\n",
      "[1/3, 6000/6250] loss: 5.426\n",
      "[1/3, 6100/6250] loss: 5.500\n",
      "[1/3, 6200/6250] loss: 5.577\n",
      "[1/3, 6250/6250] loss: 5.613\n",
      "[2/3, 100/6250] loss: 0.073\n",
      "[2/3, 200/6250] loss: 0.149\n",
      "[2/3, 300/6250] loss: 0.222\n",
      "[2/3, 400/6250] loss: 0.295\n",
      "[2/3, 500/6250] loss: 0.367\n",
      "[2/3, 600/6250] loss: 0.438\n",
      "[2/3, 700/6250] loss: 0.510\n",
      "[2/3, 800/6250] loss: 0.581\n",
      "[2/3, 900/6250] loss: 0.652\n",
      "[2/3, 1000/6250] loss: 0.726\n",
      "[2/3, 1100/6250] loss: 0.800\n",
      "[2/3, 1200/6250] loss: 0.873\n",
      "[2/3, 1300/6250] loss: 0.944\n",
      "[2/3, 1400/6250] loss: 1.015\n",
      "[2/3, 1500/6250] loss: 1.084\n",
      "[2/3, 1600/6250] loss: 1.156\n",
      "[2/3, 1700/6250] loss: 1.223\n",
      "[2/3, 1800/6250] loss: 1.292\n",
      "[2/3, 1900/6250] loss: 1.361\n",
      "[2/3, 2000/6250] loss: 1.435\n",
      "[2/3, 2100/6250] loss: 1.507\n",
      "[2/3, 2200/6250] loss: 1.576\n",
      "[2/3, 2300/6250] loss: 1.645\n",
      "[2/3, 2400/6250] loss: 1.715\n",
      "[2/3, 2500/6250] loss: 1.787\n",
      "[2/3, 2600/6250] loss: 1.855\n",
      "[2/3, 2700/6250] loss: 1.926\n",
      "[2/3, 2800/6250] loss: 1.995\n",
      "[2/3, 2900/6250] loss: 2.061\n",
      "[2/3, 3000/6250] loss: 2.131\n",
      "[2/3, 3100/6250] loss: 2.200\n",
      "[2/3, 3200/6250] loss: 2.272\n",
      "[2/3, 3300/6250] loss: 2.342\n",
      "[2/3, 3400/6250] loss: 2.408\n",
      "[2/3, 3500/6250] loss: 2.479\n",
      "[2/3, 3600/6250] loss: 2.544\n",
      "[2/3, 3700/6250] loss: 2.612\n",
      "[2/3, 3800/6250] loss: 2.683\n",
      "[2/3, 3900/6250] loss: 2.747\n",
      "[2/3, 4000/6250] loss: 2.817\n",
      "[2/3, 4100/6250] loss: 2.884\n",
      "[2/3, 4200/6250] loss: 2.951\n",
      "[2/3, 4300/6250] loss: 3.021\n",
      "[2/3, 4400/6250] loss: 3.086\n",
      "[2/3, 4500/6250] loss: 3.148\n",
      "[2/3, 4600/6250] loss: 3.216\n",
      "[2/3, 4700/6250] loss: 3.278\n",
      "[2/3, 4800/6250] loss: 3.344\n",
      "[2/3, 4900/6250] loss: 3.411\n",
      "[2/3, 5000/6250] loss: 3.473\n",
      "[2/3, 5100/6250] loss: 3.542\n",
      "[2/3, 5200/6250] loss: 3.607\n",
      "[2/3, 5300/6250] loss: 3.668\n",
      "[2/3, 5400/6250] loss: 3.736\n",
      "[2/3, 5500/6250] loss: 3.799\n",
      "[2/3, 5600/6250] loss: 3.864\n",
      "[2/3, 5700/6250] loss: 3.928\n",
      "[2/3, 5800/6250] loss: 3.991\n",
      "[2/3, 5900/6250] loss: 4.053\n",
      "[2/3, 6000/6250] loss: 4.121\n",
      "[2/3, 6100/6250] loss: 4.183\n",
      "[2/3, 6200/6250] loss: 4.252\n",
      "[2/3, 6250/6250] loss: 4.286\n",
      "[3/3, 100/6250] loss: 0.063\n",
      "[3/3, 200/6250] loss: 0.125\n",
      "[3/3, 300/6250] loss: 0.187\n",
      "[3/3, 400/6250] loss: 0.249\n",
      "[3/3, 500/6250] loss: 0.312\n",
      "[3/3, 600/6250] loss: 0.374\n",
      "[3/3, 700/6250] loss: 0.434\n",
      "[3/3, 800/6250] loss: 0.498\n",
      "[3/3, 900/6250] loss: 0.562\n",
      "[3/3, 1000/6250] loss: 0.622\n",
      "[3/3, 1100/6250] loss: 0.687\n",
      "[3/3, 1200/6250] loss: 0.750\n",
      "[3/3, 1300/6250] loss: 0.813\n",
      "[3/3, 1400/6250] loss: 0.874\n",
      "[3/3, 1500/6250] loss: 0.936\n",
      "[3/3, 1600/6250] loss: 0.991\n",
      "[3/3, 1700/6250] loss: 1.051\n",
      "[3/3, 1800/6250] loss: 1.112\n",
      "[3/3, 1900/6250] loss: 1.174\n",
      "[3/3, 2000/6250] loss: 1.238\n",
      "[3/3, 2100/6250] loss: 1.297\n",
      "[3/3, 2200/6250] loss: 1.361\n",
      "[3/3, 2300/6250] loss: 1.423\n",
      "[3/3, 2400/6250] loss: 1.483\n",
      "[3/3, 2500/6250] loss: 1.543\n",
      "[3/3, 2600/6250] loss: 1.604\n",
      "[3/3, 2700/6250] loss: 1.664\n",
      "[3/3, 2800/6250] loss: 1.724\n",
      "[3/3, 2900/6250] loss: 1.783\n",
      "[3/3, 3000/6250] loss: 1.840\n",
      "[3/3, 3100/6250] loss: 1.899\n",
      "[3/3, 3200/6250] loss: 1.960\n",
      "[3/3, 3300/6250] loss: 2.022\n",
      "[3/3, 3400/6250] loss: 2.083\n",
      "[3/3, 3500/6250] loss: 2.146\n",
      "[3/3, 3600/6250] loss: 2.210\n",
      "[3/3, 3700/6250] loss: 2.273\n",
      "[3/3, 3800/6250] loss: 2.333\n",
      "[3/3, 3900/6250] loss: 2.392\n",
      "[3/3, 4000/6250] loss: 2.449\n",
      "[3/3, 4100/6250] loss: 2.508\n",
      "[3/3, 4200/6250] loss: 2.570\n",
      "[3/3, 4300/6250] loss: 2.628\n",
      "[3/3, 4400/6250] loss: 2.690\n",
      "[3/3, 4500/6250] loss: 2.750\n",
      "[3/3, 4600/6250] loss: 2.809\n",
      "[3/3, 4700/6250] loss: 2.869\n",
      "[3/3, 4800/6250] loss: 2.930\n",
      "[3/3, 4900/6250] loss: 2.989\n",
      "[3/3, 5000/6250] loss: 3.048\n",
      "[3/3, 5100/6250] loss: 3.106\n",
      "[3/3, 5200/6250] loss: 3.159\n",
      "[3/3, 5300/6250] loss: 3.221\n",
      "[3/3, 5400/6250] loss: 3.284\n",
      "[3/3, 5500/6250] loss: 3.342\n",
      "[3/3, 5600/6250] loss: 3.400\n",
      "[3/3, 5700/6250] loss: 3.459\n",
      "[3/3, 5800/6250] loss: 3.518\n",
      "[3/3, 5900/6250] loss: 3.577\n",
      "[3/3, 6000/6250] loss: 3.635\n",
      "[3/3, 6100/6250] loss: 3.698\n",
      "[3/3, 6200/6250] loss: 3.753\n",
      "[3/3, 6250/6250] loss: 3.782\n",
      "Finished Training\n"
     ]
    }
   ],
   "source": [
    "'''These are parameter settings. They are loss function (using CrossEntropy of multi-classifiers), \n",
    "learning rate, number of iterations (epochs), and optimizer'''\n",
    "\n",
    "# Parameters\n",
    "criterion = nn.CrossEntropyLoss()\n",
    "lr = 0.001\n",
    "epochs = 3\n",
    "optimizer = optim.SGD(net.parameters(), lr=lr, momentum=0.9)\n",
    "\n",
    "# Train\n",
    "for epoch in range(epochs):\n",
    "    running_loss = 0.0\n",
    "\n",
    "    for times, data in enumerate(trainLoader, 0):\n",
    "        inputs, labels = data\n",
    "        inputs, labels = inputs.to(device), labels.to(device)\n",
    "\n",
    "        # Zero the parameter gradients\n",
    "        optimizer.zero_grad()\n",
    "\n",
    "        # forward + backward + optimize\n",
    "        outputs = net(inputs)\n",
    "        loss = criterion(outputs, labels)\n",
    "        loss.backward()\n",
    "        optimizer.step()\n",
    "\n",
    "        # print statistics\n",
    "        running_loss += loss.item()\n",
    "\n",
    "        if times % 100 == 99 or times+1 == len(trainLoader):\n",
    "            print('[%d/%d, %d/%d] loss: %.3f' % (epoch+1, epochs, times+1, len(trainLoader), running_loss/2000))\n",
    "\n",
    "print('Finished Training')"
   ]
  },
  {
   "cell_type": "markdown",
   "id": "c6214367",
   "metadata": {},
   "source": [
    "### --> Evaluate model"
   ]
  },
  {
   "cell_type": "code",
   "execution_count": 18,
   "id": "362a7446",
   "metadata": {},
   "outputs": [
    {
     "name": "stdout",
     "output_type": "stream",
     "text": [
      "Accuracy of the network on the 10000 test inputs: 56 %\n",
      "Accuracy of plane : 65 %\n",
      "Accuracy of   car : 51 %\n",
      "Accuracy of  bird : 36 %\n",
      "Accuracy of   cat : 30 %\n",
      "Accuracy of  deer : 73 %\n",
      "Accuracy of   dog : 44 %\n",
      "Accuracy of  frog : 57 %\n",
      "Accuracy of horse : 62 %\n",
      "Accuracy of  ship : 76 %\n",
      "Accuracy of truck : 71 %\n"
     ]
    }
   ],
   "source": [
    "# Test\n",
    "correct = 0\n",
    "total = 0\n",
    "with torch.no_grad():\n",
    "    for data in testLoader:\n",
    "        inputs, labels = data\n",
    "        inputs, labels = inputs.to(device), labels.to(device)\n",
    "        outputs = net(inputs)\n",
    "        _, predicted = torch.max(outputs.data, 1)\n",
    "        total += labels.size(0)\n",
    "        correct += (predicted == labels).sum().item()\n",
    "\n",
    "print('Accuracy of the network on the 10000 test inputs: %d %%' % (100 * correct / total))\n",
    "\n",
    "class_correct = list(0. for i in range(10))\n",
    "class_total = list(0. for i in range(10))\n",
    "with torch.no_grad():\n",
    "    for data in testLoader:\n",
    "        inputs, labels = data\n",
    "        inputs, labels = inputs.to(device), labels.to(device)\n",
    "        outputs = net(inputs)\n",
    "        _, predicted = torch.max(outputs, 1)\n",
    "        c = (predicted == labels).squeeze()\n",
    "        for i in range(8):\n",
    "            label = labels[i]\n",
    "            class_correct[label] += c[i].item()\n",
    "            class_total[label] += 1\n",
    "\n",
    "for i in range(10):\n",
    "    print('Accuracy of %5s : %2d %%' % (classes[i], 100 * class_correct[i] / class_total[i]))"
   ]
  },
  {
   "cell_type": "markdown",
   "id": "56551b41",
   "metadata": {},
   "source": [
    "### >> Data Augmentation"
   ]
  },
  {
   "cell_type": "code",
   "execution_count": null,
   "id": "47aa1790",
   "metadata": {},
   "outputs": [],
   "source": [
    "'''To improve the generalization ability of the model, we can use data augmentation techniques'''\n",
    "transform = transforms.Compose(\n",
    "    [transforms.RandomCrop(32, padding=4),\n",
    "     transforms.RandomHorizontalFlip(),\n",
    "     transforms.ToTensor(),\n",
    "     transforms.Normalize((0.5, 0.5, 0.5), (0.5, 0.5, 0.5))])"
   ]
  },
  {
   "cell_type": "code",
   "execution_count": null,
   "id": "e570a22a",
   "metadata": {},
   "outputs": [],
   "source": [
    "# Define a function to plot a grid of images\n",
    "def plot_images(images, labels, class_names, grid_size=(4, 4)):\n",
    "    plt.figure(figsize=(8, 8))\n",
    "    for i in range(grid_size[0] * grid_size[1]):\n",
    "        plt.subplot(grid_size[0], grid_size[1], i + 1)\n",
    "        plt.xticks([])\n",
    "        plt.yticks([])\n",
    "        plt.grid(False)\n",
    "        plt.imshow(images[i])\n",
    "        plt.xlabel(class_names[labels[i][0]])\n",
    "    plt.show()\n"
   ]
  },
  {
   "cell_type": "markdown",
   "id": "207e47a3",
   "metadata": {},
   "source": [
    "### >> Using a More Sophisticated Model"
   ]
  },
  {
   "cell_type": "code",
   "execution_count": null,
   "id": "bb32425b",
   "metadata": {},
   "outputs": [],
   "source": [
    "'''Instead of a simple convolutional neural network, we can use pre - trained models\n",
    " like ResNet and fine - tune them on the CIFAR dataset'''\n",
    "import torchvision.models as models\n",
    "resnet = models.resnet18(pretrained=True)\n",
    "# Modify the last fully - connected layer for CIFAR - 10 (10 classes)\n",
    "num_ftrs = resnet.fc.in_features\n",
    "resnet.fc = nn.Linear(num_ftrs, 10)"
   ]
  },
  {
   "cell_type": "markdown",
   "id": "1528856f",
   "metadata": {},
   "source": []
  }
 ],
 "metadata": {
  "kernelspec": {
   "display_name": "Python 3",
   "language": "python",
   "name": "python3"
  },
  "language_info": {
   "codemirror_mode": {
    "name": "ipython",
    "version": 3
   },
   "file_extension": ".py",
   "mimetype": "text/x-python",
   "name": "python",
   "nbconvert_exporter": "python",
   "pygments_lexer": "ipython3",
   "version": "3.11.0"
  }
 },
 "nbformat": 4,
 "nbformat_minor": 5
}
