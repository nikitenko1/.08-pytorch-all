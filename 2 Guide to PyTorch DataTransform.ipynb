{
 "cells": [
  {
   "cell_type": "markdown",
   "id": "a66b8fba",
   "metadata": {},
   "source": [
    "### A Comprehensive Guide to PyTorch DataTransform"
   ]
  },
  {
   "cell_type": "markdown",
   "id": "1bf059a1",
   "metadata": {},
   "source": [
    "### @ What is DataTransform?"
   ]
  },
  {
   "cell_type": "code",
   "execution_count": null,
   "id": "c19c81eb",
   "metadata": {},
   "outputs": [],
   "source": [
    "'''DataTransform in PyTorch refers to the process of applying a series of transformations to the input data before feeding it \n",
    "into a neural network. \n",
    "These transformations can include resizing images, normalizing pixel values, flipping images, and more'''"
   ]
  },
  {
   "cell_type": "code",
   "execution_count": null,
   "id": "d4f8154c",
   "metadata": {},
   "outputs": [],
   "source": [
    "'''torchvision.transforms Module'''\n",
    "'''\n",
    "The torchvision.transforms module provides a wide range of built - in transformation classes that can be used \n",
    "to perform various data preprocessing tasks. \n",
    "These classes can be combined using the Compose function to create a sequence of transformations\n",
    "'''\n"
   ]
  },
  {
   "cell_type": "code",
   "execution_count": 1,
   "id": "208810b3",
   "metadata": {},
   "outputs": [],
   "source": [
    "import torch\n",
    "import torchvision\n",
    "from torchvision import transforms"
   ]
  },
  {
   "cell_type": "markdown",
   "id": "93e39126",
   "metadata": {},
   "source": [
    "### --> Creating a Transformation Pipeline"
   ]
  },
  {
   "cell_type": "code",
   "execution_count": 10,
   "id": "39a659d4",
   "metadata": {},
   "outputs": [],
   "source": [
    "'''We can use the Compose function to create a sequence of transformations'''\n",
    "_transform = transforms.Compose([\n",
    "    transforms.Resize((224, 224)),\n",
    "    transforms.ToTensor(),\n",
    "    transforms.Normalize(mean=[0.485, 0.456, 0.406], std=[0.229, 0.224, 0.225])\n",
    "])"
   ]
  },
  {
   "cell_type": "markdown",
   "id": "e8425a53",
   "metadata": {},
   "source": [
    "### --> Applying Transformations to an Image"
   ]
  },
  {
   "cell_type": "code",
   "execution_count": 14,
   "id": "d53e9862",
   "metadata": {},
   "outputs": [],
   "source": [
    "from PIL import Image\n",
    "\n",
    "# Load an image\n",
    "image = Image.open('pexels-birgitboellinger.jpg')\n",
    "\n",
    "# Apply the transformation\n",
    "transformed_image = _transform(image)"
   ]
  },
  {
   "cell_type": "markdown",
   "id": "e8190b2d",
   "metadata": {},
   "source": [
    "### --> Image Resizing"
   ]
  },
  {
   "cell_type": "code",
   "execution_count": 15,
   "id": "3f50be75",
   "metadata": {},
   "outputs": [],
   "source": [
    "resize_transform = transforms.Resize((256, 256))\n",
    "resized_image = resize_transform(image)"
   ]
  },
  {
   "cell_type": "markdown",
   "id": "3bbe4acb",
   "metadata": {},
   "source": [
    "### --> Converting to Tensor"
   ]
  },
  {
   "cell_type": "code",
   "execution_count": 16,
   "id": "e5e04fdf",
   "metadata": {},
   "outputs": [],
   "source": [
    "to_tensor_transform = transforms.ToTensor()\n",
    "tensor_image = to_tensor_transform(image)"
   ]
  },
  {
   "cell_type": "markdown",
   "id": "c35bf5bc",
   "metadata": {},
   "source": [
    "### --> Normalization"
   ]
  },
  {
   "cell_type": "code",
   "execution_count": 17,
   "id": "1cecbe4e",
   "metadata": {},
   "outputs": [],
   "source": [
    "normalize_transform = transforms.Normalize(mean=[0.5, 0.5, 0.5], std=[0.5, 0.5, 0.5])\n",
    "normalized_image = normalize_transform(tensor_image)"
   ]
  },
  {
   "cell_type": "markdown",
   "id": "f27f5e62",
   "metadata": {},
   "source": [
    "### --> Data Augmentation"
   ]
  },
  {
   "cell_type": "code",
   "execution_count": 18,
   "id": "e7373734",
   "metadata": {},
   "outputs": [],
   "source": [
    "data_augmentation_transform = transforms.Compose([\n",
    "    transforms.RandomHorizontalFlip(),\n",
    "    transforms.RandomRotation(10),\n",
    "    transforms.RandomCrop(224)\n",
    "])\n",
    "\n",
    "augmented_image = data_augmentation_transform(image)"
   ]
  },
  {
   "cell_type": "markdown",
   "id": "1ec10362",
   "metadata": {},
   "source": [
    "### --> Training vs. Testing Transformations"
   ]
  },
  {
   "cell_type": "code",
   "execution_count": null,
   "id": "0455101d",
   "metadata": {},
   "outputs": [],
   "source": [
    "'''\n",
    "It is important to use different transformation pipelines for training and testing data. \n",
    "During training, we can apply data augmentation techniques to increase the diversity of the training set. \n",
    "However, during testing, \n",
    "we only need to apply basic transformations such as resizing and normalization\n",
    "'''"
   ]
  },
  {
   "cell_type": "code",
   "execution_count": 8,
   "id": "743ff463",
   "metadata": {},
   "outputs": [],
   "source": [
    "# Training transformation\n",
    "train_transform = transforms.Compose([\n",
    "    transforms.RandomResizedCrop(224),\n",
    "    transforms.RandomHorizontalFlip(),\n",
    "    transforms.ToTensor(),\n",
    "    transforms.Normalize(mean=[0.485, 0.456, 0.406], std=[0.229, 0.224, 0.225])\n",
    "])\n",
    "\n",
    "# Testing transformation\n",
    "test_transform = transforms.Compose([\n",
    "    transforms.Resize(256),\n",
    "    transforms.CenterCrop(224),\n",
    "    transforms.ToTensor(),\n",
    "    transforms.Normalize(mean=[0.485, 0.456, 0.406], std=[0.229, 0.224, 0.225])\n",
    "])"
   ]
  }
 ],
 "metadata": {
  "kernelspec": {
   "display_name": "Python 3",
   "language": "python",
   "name": "python3"
  },
  "language_info": {
   "codemirror_mode": {
    "name": "ipython",
    "version": 3
   },
   "file_extension": ".py",
   "mimetype": "text/x-python",
   "name": "python",
   "nbconvert_exporter": "python",
   "pygments_lexer": "ipython3",
   "version": "3.11.0"
  }
 },
 "nbformat": 4,
 "nbformat_minor": 5
}
