{
 "cells": [
  {
   "cell_type": "markdown",
   "id": "d349b97e",
   "metadata": {},
   "source": [
    "### A Comprehensive Guide to PyTorch Data Types"
   ]
  },
  {
   "cell_type": "markdown",
   "id": "dd5fc8ee",
   "metadata": {},
   "source": [
    "### @ What are Tensors?"
   ]
  },
  {
   "cell_type": "code",
   "execution_count": null,
   "id": "ae8d7b6d",
   "metadata": {},
   "outputs": [],
   "source": [
    "'''In PyTorch, tensors are the primary data structure used to represent multi - dimensional arrays. \n",
    "Tensors are similar to NumPy arrays but have additional features that make them suitable for deep learning, \n",
    "such as support for automatic differentiation and GPU acceleration'''"
   ]
  },
  {
   "cell_type": "markdown",
   "id": "9b205540",
   "metadata": {},
   "source": [
    "### @ Data Types in PyTorch"
   ]
  },
  {
   "cell_type": "code",
   "execution_count": null,
   "id": "bdaac6d0",
   "metadata": {},
   "outputs": [],
   "source": [
    "'''Data Type\tDescription\n",
    "torch.float32\tSingle - precision floating - point number (default for most operations)\n",
    "torch.float64\tDouble - precision floating - point number\n",
    "torch.int8\t8 - bit signed integer\n",
    "torch.int16\t16 - bit signed integer\n",
    "torch.int32\t32 - bit signed integer\n",
    "torch.int64\t64 - bit signed integer\n",
    "torch.bool\tBoolean value (True or False)'''"
   ]
  },
  {
   "cell_type": "markdown",
   "id": "caeef492",
   "metadata": {},
   "source": [
    "### @ Creating Tensors with Specific Data Types"
   ]
  },
  {
   "cell_type": "code",
   "execution_count": 1,
   "id": "67ba70ad",
   "metadata": {},
   "outputs": [
    {
     "name": "stdout",
     "output_type": "stream",
     "text": [
      "Float32 tensor: torch.float32\n",
      "Int64 tensor: torch.int64\n"
     ]
    }
   ],
   "source": [
    "import torch\n",
    "\n",
    "# Create a tensor with float32 data type\n",
    "float32_tensor = torch.tensor([1.0, 2.0, 3.0], dtype=torch.float32)\n",
    "print(f\"Float32 tensor: {float32_tensor.dtype}\")\n",
    "\n",
    "# Create a tensor with int64 data type\n",
    "int64_tensor = torch.tensor([1, 2, 3], dtype=torch.int64)\n",
    "print(f\"Int64 tensor: {int64_tensor.dtype}\")"
   ]
  },
  {
   "cell_type": "markdown",
   "id": "0b50a75a",
   "metadata": {},
   "source": [
    "### @ Changing the Data Type of a Tensor"
   ]
  },
  {
   "cell_type": "code",
   "execution_count": 2,
   "id": "2b9e46a5",
   "metadata": {},
   "outputs": [
    {
     "name": "stdout",
     "output_type": "stream",
     "text": [
      "Original tensor dtype: torch.float32\n",
      "New tensor dtype: torch.float64\n"
     ]
    }
   ],
   "source": [
    "# You can change the data type of an existing tensor using the to() method.\n",
    "original_tensor = torch.tensor([1.0, 2.0, 3.0], dtype=torch.float32)\n",
    "new_tensor = original_tensor.to(torch.float64)\n",
    "print(f\"Original tensor dtype: {original_tensor.dtype}\")\n",
    "print(f\"New tensor dtype: {new_tensor.dtype}\")\n",
    " "
   ]
  },
  {
   "cell_type": "markdown",
   "id": "0b1e17b2",
   "metadata": {},
   "source": [
    "### @ Using the Appropriate Data Type for Memory Efficiency"
   ]
  },
  {
   "cell_type": "code",
   "execution_count": 3,
   "id": "f66253ae",
   "metadata": {},
   "outputs": [
    {
     "name": "stdout",
     "output_type": "stream",
     "text": [
      "Memory usage of float32 tensor: 4000000 bytes\n",
      "Memory usage of float16 tensor: 2000000 bytes\n"
     ]
    }
   ],
   "source": [
    "# Create a large tensor with float32\n",
    "large_float32_tensor = torch.randn(1000, 1000, dtype=torch.float32)\n",
    "print(f\"Memory usage of float32 tensor: {large_float32_tensor.element_size() * large_float32_tensor.numel()} bytes\")\n",
    "\n",
    "# Create a large tensor with float16\n",
    "large_float16_tensor = torch.randn(1000, 1000, dtype=torch.float16)\n",
    "print(f\"Memory usage of float16 tensor: {large_float16_tensor.element_size() * large_float16_tensor.numel()} bytes\")"
   ]
  },
  {
   "cell_type": "markdown",
   "id": "56ca75d3",
   "metadata": {},
   "source": [
    "### @ Ensuring Compatibility in Operations"
   ]
  },
  {
   "cell_type": "code",
   "execution_count": null,
   "id": "447640f7",
   "metadata": {},
   "outputs": [],
   "source": [
    "'''If the data types are different, PyTorch will try to convert one of the tensors to match the other, \n",
    "which can sometimes lead to unexpected results.'''"
   ]
  },
  {
   "cell_type": "code",
   "execution_count": 4,
   "id": "3969eeac",
   "metadata": {},
   "outputs": [
    {
     "name": "stdout",
     "output_type": "stream",
     "text": [
      "Result: tensor([5., 7., 9.])\n"
     ]
    }
   ],
   "source": [
    "tensor1 = torch.tensor([1, 2, 3], dtype=torch.int32)\n",
    "tensor2 = torch.tensor([4.0, 5.0, 6.0], dtype=torch.float32)\n",
    "# This will cause a type mismatch error if not handled properly\n",
    "try:\n",
    "    result = tensor1 + tensor2\n",
    "except RuntimeError as e:\n",
    "    print(f\"Error: {e}\")\n",
    "\n",
    "# Convert tensor1 to float32\n",
    "tensor1 = tensor1.to(torch.float32)\n",
    "result = tensor1 + tensor2\n",
    "print(f\"Result: {result}\")"
   ]
  },
  {
   "cell_type": "markdown",
   "id": "1d522394",
   "metadata": {},
   "source": [
    "### @ Use the Default Data Type for Most Operations"
   ]
  },
  {
   "cell_type": "code",
   "execution_count": null,
   "id": "18174034",
   "metadata": {},
   "outputs": [],
   "source": [
    "'''PyTorch uses torch.float32 as the default data type for floating - point tensors'''"
   ]
  },
  {
   "cell_type": "markdown",
   "id": "cc5ec06d",
   "metadata": {},
   "source": [
    "### @ Validate Data Types at the Input"
   ]
  },
  {
   "cell_type": "code",
   "execution_count": 6,
   "id": "cf322d7d",
   "metadata": {},
   "outputs": [
    {
     "name": "stdout",
     "output_type": "stream",
     "text": [
      "Output: tensor([1., 2., 3.])\n"
     ]
    }
   ],
   "source": [
    "import torch.nn as nn\n",
    "\n",
    "class MyModel(nn.Module):\n",
    "    def __init__(self):\n",
    "        super(MyModel, self).__init__()\n",
    "\n",
    "    def forward(self, x):\n",
    "        if x.dtype != torch.float32:\n",
    "            raise ValueError(\"Input tensor must be of type torch.float32\")\n",
    "        return x\n",
    "\n",
    "model = MyModel()\n",
    "input_tensor = torch.tensor([1.0, 2.0, 3.0], dtype=torch.float32)\n",
    "output = model(input_tensor)\n",
    "print(f\"Output: {output}\")"
   ]
  }
 ],
 "metadata": {
  "kernelspec": {
   "display_name": "Python 3",
   "language": "python",
   "name": "python3"
  },
  "language_info": {
   "codemirror_mode": {
    "name": "ipython",
    "version": 3
   },
   "file_extension": ".py",
   "mimetype": "text/x-python",
   "name": "python",
   "nbconvert_exporter": "python",
   "pygments_lexer": "ipython3",
   "version": "3.11.0"
  }
 },
 "nbformat": 4,
 "nbformat_minor": 5
}
